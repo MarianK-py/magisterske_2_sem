{
 "cells": [
  {
   "cell_type": "code",
   "execution_count": 4,
   "id": "e75011a7-4a67-45a4-a6cb-99e93f2ef722",
   "metadata": {},
   "outputs": [],
   "source": [
    "import torch\n",
    "from torch import nn\n",
    "from torch.utils.data import DataLoader\n",
    "from torchvision import datasets\n",
    "from torchvision import transforms\n",
    "import numpy as np\n",
    "from matplotlib import pyplot as plt\n"
   ]
  },
  {
   "cell_type": "code",
   "execution_count": 13,
   "id": "63a976c7-503e-4efb-9345-ea9954672609",
   "metadata": {},
   "outputs": [],
   "source": [
    "# -------------------------------------------------------------------------------------\n",
    "#   Tensor\n",
    "# similar to NumPy's ndarrays but can run on GPUs or other hardware accelerators\n",
    "# we can still use many of the standard numpy matrix operations and functions (*, @, \\, .T, ...)\n",
    "# optimized for automatic differentiation\n",
    "x = np.arange(10)\n",
    "x_t = torch.tensor(x, dtype=torch.float64)\n",
    "W = torch.randn((10, 10), dtype=torch.float64)\n",
    "\n",
    "# print(W[0, :])\n",
    "# print('Shape of W: ', W.shape)\n",
    "# exit(1)"
   ]
  },
  {
   "cell_type": "code",
   "execution_count": 6,
   "id": "77761bce-ec6a-4cc1-be9f-0d481b286aff",
   "metadata": {},
   "outputs": [],
   "source": [
    "# -------------------------------------------------------------------------------------\n",
    "#   Autograd\n",
    "# automatic differentiation provides an efficient way to compute gradients\n",
    "# each function has forward & backward pass\n",
    "# the forward is the standard computation, whereas the backward computes partial derivatives\n",
    "x_t.requires_grad = True\n",
    "y = (x_t ** 3).sum()\n",
    "y.backward()\n",
    "\n",
    "# print(y)\n",
    "# print(x_t.grad)\n",
    "# exit(1)"
   ]
  },
  {
   "cell_type": "code",
   "execution_count": 14,
   "id": "bf111212-373c-4e09-8de1-db6e137fd3c1",
   "metadata": {},
   "outputs": [],
   "source": [
    "# -------------------------------------------------------------------------------------\n",
    "#   Transform\n",
    "# https://pytorch.org/vision/stable/transforms.html\n",
    "# Can be used for data augmentation - crop/rotate/add noise/...\n",
    "# ToTensor() -> Convert a PIL Image or numpy.ndarray to tensor in range [0, 1]\n",
    "# Compose(...) -> Composes several transforms together\n",
    "# Normalize(mean, std) -> image = (image - mean) / std\n",
    "\n",
    "# FIXME shift and scale (normalize) each pixel of the input images into the range [-1, 1]\n",
    "transform = transforms.Compose([transforms.ToTensor(), transforms.Normalize(-1, 2)])"
   ]
  },
  {
   "cell_type": "code",
   "execution_count": 15,
   "id": "80d5ff61-5458-4a95-911c-0deaf9f1bf3e",
   "metadata": {},
   "outputs": [
    {
     "data": {
      "image/png": "[encoded data removed]",
      "text/plain": [
       "<Figure size 800x800 with 9 Axes>"
      ]
     },
     "metadata": {},
     "output_type": "display_data"
    }
   ],
   "source": [
    "# -------------------------------------------------------------------------------------\n",
    "#   torchvision.datasets\n",
    "# Download data from open datasets: https://pytorch.org/vision/stable/datasets.html\n",
    "# 4 parameters: root - the path where the train/test data is stored,\n",
    "#               train - specifies, whether the data is used for training or testing\n",
    "#               download - True/False, download=True to download the data if it's not at root\n",
    "#               transform - applies the defined transformation on the downloaded data\n",
    "\n",
    "# FIXME download FashionMNIST dataset instead of MNIST\n",
    "training_data = datasets.FashionMNIST(root='data', train=True, download=True, transform=transform)\n",
    "test_data = datasets.FashionMNIST(root='data', train=False, download=True, transform=transform)\n",
    "\n",
    "# visualize the data\n",
    "figure = plt.figure(figsize=(8, 8))\n",
    "cols, rows = 3, 3\n",
    "for i in range(1, cols * rows + 1):\n",
    "    sample_idx = torch.randint(len(training_data), size=(1,)).item()\n",
    "    img, label = training_data[sample_idx]\n",
    "    figure.add_subplot(rows, cols, i)\n",
    "    plt.title(label)\n",
    "    plt.axis(\"off\")\n",
    "    plt.imshow(img.squeeze(), cmap=\"gray\")\n",
    "\n",
    "# plt.show()\n",
    "# exit(1)"
   ]
  },
  {
   "cell_type": "code",
   "execution_count": 16,
   "id": "8d0bca7c-ecba-4b0c-8716-ab6cf45ce882",
   "metadata": {},
   "outputs": [
    {
     "name": "stdout",
     "output_type": "stream",
     "text": [
      "Shape of X [N, C, H, W]: torch.Size([64, 1, 28, 28])\n",
      "Shape of y: torch.Size([64]) torch.int64\n"
     ]
    }
   ],
   "source": [
    "# -------------------------------------------------------------------------------------\n",
    "# Create data loaders\n",
    "batch_size = 64\n",
    "train_dataloader = DataLoader(training_data, batch_size=batch_size, shuffle=True)\n",
    "test_dataloader = DataLoader(test_data, batch_size=batch_size, shuffle=True)\n",
    "\n",
    "for X, y in test_dataloader:\n",
    "    print(f\"Shape of X [N, C, H, W]: {X.shape}\")\n",
    "    print(f\"Shape of y: {y.shape} {y.dtype}\")\n",
    "    break\n",
    "# exit(1)\n",
    "\n",
    "# if cuda available:\n",
    "device = \"cuda\" if torch.cuda.is_available() else \"cpu\""
   ]
  },
  {
   "cell_type": "code",
   "execution_count": 65,
   "id": "8754aff6-8634-4461-9345-0b18bf752b77",
   "metadata": {},
   "outputs": [],
   "source": [
    "# -------------------------------------------------------------------------------------\n",
    "#       Defining a model\n",
    "#   https://pytorch.org/docs/stable/nn.html\n",
    "#   nn.Linear() - fully-connected layer (default with bias)\n",
    "#   nn.Flatten() - flattens the 2d input\n",
    "#   Activation functions: nn.ReLU, nn.GELU, nn.Sigmoid, nn.Tanh, nn.Softmax\n",
    "\n",
    "\n",
    "# FIXME define the network architecture (self.layers) so that it contains at least 3 weight matrices and 2 different\n",
    "#  activation functions. As the last activation function, choose the one which is the most suitable for the task of\n",
    "#  classification. Before blindly designing a network, read the corresponding documentations!\n",
    "class NeuralNetwork(nn.Module):\n",
    "    def __init__(self):\n",
    "        super(NeuralNetwork, self).__init__()\n",
    "        self.flatten = nn.Flatten()   # FIXME\n",
    "        self.layers = nn.Sequential(\n",
    "            nn.Linear(28**2, 128), \n",
    "            nn.ReLU(),\n",
    "            nn.Linear(128, 64), \n",
    "            nn.ReLU(),\n",
    "            nn.Linear(64, 10),\n",
    "            nn.LogSoftmax(dim=1)\n",
    "        )\n",
    "\n",
    "    def forward(self, x):\n",
    "        x = self.flatten(x)\n",
    "        logits = self.layers(x)\n",
    "        return logits\n",
    "\n",
    "\n",
    "model = NeuralNetwork().to(device)\n",
    "# print(model)\n",
    "# exit(1)"
   ]
  },
  {
   "cell_type": "code",
   "execution_count": 66,
   "id": "07bcd11e-9e60-431b-afe7-aa5314024f60",
   "metadata": {},
   "outputs": [],
   "source": [
    "# -------------------------------------------------------------------------------------\n",
    "#           Defining the loss:\n",
    "#       https://pytorch.org/docs/stable/nn.html#loss-functions\n",
    "#   nn.MSELoss:\n",
    "#       https://pytorch.org/docs/stable/generated/torch.nn.MSELoss.html#torch.nn.MSELoss\n",
    "#   nn.CrossEntropyLoss:\n",
    "#       https://pytorch.org/docs/stable/generated/torch.nn.CrossEntropyLoss.html#torch.nn.CrossEntropyLoss\n",
    "#   nn.NLLLoss:\n",
    "#       https://pytorch.org/docs/stable/generated/torch.nn.NLLLoss.html#torch.nn.NLLLoss\n",
    "\n",
    "#   FIXME correctly define the loss function according to the function on the output layer\n",
    "loss_fn = nn.NLLLoss()"
   ]
  },
  {
   "cell_type": "code",
   "execution_count": 67,
   "id": "e9e40139-9dd1-442d-8bff-93c033b1ae87",
   "metadata": {},
   "outputs": [],
   "source": [
    "# -------------------------------------------------------------------------------------\n",
    "#       Optimizers  (https://pytorch.org/docs/stable/optim.html)\n",
    "#   optimizer = torch.optim.SGD(model.parameters())\n",
    "#   optimizer = torch.optim.Adam(model.parameters(), lr=0.0001)\n",
    "\n",
    "# FIXME: specify the model optimizer, its learning rate or if needed, set another additional parameters\n",
    "optimizer =  torch.optim.Adam(model.parameters(), lr=0.003)\n",
    "\n",
    "\n",
    "#       Training & Testing the model\n",
    "def train(dataloader, model, loss_fn, optimizer):\n",
    "    size = len(dataloader.dataset)\n",
    "    model.train()\n",
    "    for batch, (X, y) in enumerate(dataloader):\n",
    "        X, y = X.to(device), y.to(device)\n",
    "\n",
    "        # Compute prediction error\n",
    "        pred = model(X)\n",
    "        loss = loss_fn(pred, y)     # does not require one-hot encoding of y!\n",
    "\n",
    "        # Backpropagation\n",
    "        optimizer.zero_grad()\n",
    "        loss.backward()\n",
    "        optimizer.step()\n",
    "\n",
    "        if batch % 100 == 0:\n",
    "            loss, current = loss.item(), batch * len(X)\n",
    "            print(f\"loss: {loss:>7f}  [{current:>5d}/{size:>5d}]\")\n",
    "\n",
    "\n",
    "def test(dataloader, model, loss_fn):\n",
    "    size = len(dataloader.dataset)\n",
    "    num_batches = len(dataloader)\n",
    "    model.eval()\n",
    "    test_loss, correct = 0, 0\n",
    "    with torch.no_grad():\n",
    "        for X, y in dataloader:\n",
    "            X, y = X.to(device), y.to(device)\n",
    "            pred = model(X)\n",
    "            test_loss += loss_fn(pred, y).item()\n",
    "            correct += (pred.argmax(1) == y).type(torch.float).sum().item()\n",
    "    test_loss /= num_batches\n",
    "    correct /= size\n",
    "    print(f\"Test Error: \\n Accuracy: {(100*correct):>0.1f}%, Avg loss: {test_loss:>8f} \\n\")\n"
   ]
  },
  {
   "cell_type": "code",
   "execution_count": 68,
   "id": "6003bf73-5be9-4370-bf58-ec44cbe34408",
   "metadata": {},
   "outputs": [
    {
     "name": "stdout",
     "output_type": "stream",
     "text": [
      "loss: 2.301494  [    0/60000]\n",
      "loss: 1.047385  [ 6400/60000]\n",
      "loss: 0.810975  [12800/60000]\n",
      "loss: 0.946667  [19200/60000]\n",
      "loss: 0.999719  [25600/60000]\n",
      "loss: 0.558954  [32000/60000]\n",
      "loss: 0.662681  [38400/60000]\n",
      "loss: 0.542055  [44800/60000]\n",
      "loss: 0.708235  [51200/60000]\n",
      "loss: 0.742456  [57600/60000]\n",
      "loss: 0.659636  [    0/60000]\n",
      "loss: 0.568795  [ 6400/60000]\n",
      "loss: 0.768649  [12800/60000]\n",
      "loss: 0.779152  [19200/60000]\n",
      "loss: 0.514925  [25600/60000]\n",
      "loss: 0.711858  [32000/60000]\n",
      "loss: 0.714671  [38400/60000]\n",
      "loss: 0.474844  [44800/60000]\n",
      "loss: 0.639097  [51200/60000]\n",
      "loss: 0.568346  [57600/60000]\n",
      "loss: 0.651156  [    0/60000]\n",
      "loss: 0.423071  [ 6400/60000]\n",
      "loss: 0.484344  [12800/60000]\n",
      "loss: 0.357514  [19200/60000]\n",
      "loss: 0.600417  [25600/60000]\n",
      "loss: 0.739883  [32000/60000]\n",
      "loss: 0.674916  [38400/60000]\n",
      "loss: 0.513650  [44800/60000]\n",
      "loss: 0.678987  [51200/60000]\n",
      "loss: 0.389583  [57600/60000]\n",
      "loss: 0.460384  [    0/60000]\n",
      "loss: 0.483803  [ 6400/60000]\n",
      "loss: 0.577067  [12800/60000]\n",
      "loss: 0.522191  [19200/60000]\n",
      "loss: 0.487371  [25600/60000]\n",
      "loss: 0.447051  [32000/60000]\n",
      "loss: 0.626069  [38400/60000]\n",
      "loss: 0.499457  [44800/60000]\n",
      "loss: 0.503640  [51200/60000]\n",
      "loss: 0.446057  [57600/60000]\n",
      "loss: 0.265387  [    0/60000]\n",
      "loss: 0.535756  [ 6400/60000]\n",
      "loss: 0.637501  [12800/60000]\n",
      "loss: 0.694370  [19200/60000]\n",
      "loss: 0.622989  [25600/60000]\n",
      "loss: 0.601799  [32000/60000]\n",
      "loss: 0.672539  [38400/60000]\n",
      "loss: 0.446128  [44800/60000]\n",
      "loss: 0.558713  [51200/60000]\n",
      "loss: 0.453206  [57600/60000]\n"
     ]
    }
   ],
   "source": [
    "# FIXME: Train the network for 5 epochs (in each epoch also print the test error)\n",
    "for i in range(5):\n",
    "    train(train_dataloader, model, loss_fn, optimizer)"
   ]
  },
  {
   "cell_type": "code",
   "execution_count": 69,
   "id": "f302a618-f066-43e6-b1b1-2e71154d5615",
   "metadata": {},
   "outputs": [
    {
     "name": "stdout",
     "output_type": "stream",
     "text": [
      "Test Error: \n",
      " Accuracy: 82.2%, Avg loss: 0.503836 \n",
      "\n"
     ]
    }
   ],
   "source": [
    "test(test_dataloader, model, loss_fn)"
   ]
  }
 ],
 "metadata": {
  "kernelspec": {
   "display_name": "base",
   "language": "python",
   "name": "base"
  },
  "language_info": {
   "codemirror_mode": {
    "name": "ipython",
    "version": 3
   },
   "file_extension": ".py",
   "mimetype": "text/x-python",
   "name": "python",
   "nbconvert_exporter": "python",
   "pygments_lexer": "ipython3",
   "version": "3.11.4"
  }
 },
 "nbformat": 4,
 "nbformat_minor": 5
}
